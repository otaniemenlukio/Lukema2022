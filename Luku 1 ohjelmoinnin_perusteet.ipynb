{
 "cells": [
  {
   "cell_type": "markdown",
   "metadata": {},
   "source": [
    "# Lukema 2022 lukion matemattiikkaa ohjelmoimalla\n",
    "\n",
    "## Sisällöt\n",
    "\n",
    "- Ohjelmoinnin perusteet\n",
    "- Ehtolauseet ja toisto\n",
    "- Listat ja funktiot\n",
    "- Esimerkkejä numeerisista menetelmistä\n",
    "\n",
    "Materiaalissa esitetty lukion pitkän matematiikan tehtävien ratkaisussa tarvittavat python-ohjelmoinnin rakenteet. Aineistossa on mukana valmiiksi ohjelmoituja esimerkkilaskuja. Materiaali on tarkoitettu itseopiskeluun ja ohjelmointitaitojen ylläpitoon ja kertaukseen. Lue teoria ja ohjelmaesimerkit sekä koodin keskellä olevat kommentit \n",
    "\n",
    "Tämän materiaalin esimerkit on kirjoitettu Jupyterillä, mutta tehtäviä voi ohjelmoida ja suorittaa millä tahansa ohjelmointiympäristöllä. \n"
   ]
  },
  {
   "cell_type": "code",
   "execution_count": 1,
   "metadata": {},
   "outputs": [
    {
     "name": "stdout",
     "output_type": "stream",
     "text": [
      "Hello world\n"
     ]
    }
   ],
   "source": [
    "# Tämä on koodisolu, josta voit kopioida python-koodia.\n",
    "print(\"Hello world\")"
   ]
  },
  {
   "cell_type": "markdown",
   "metadata": {},
   "source": [
    "# Lukion matematiikkaa ohjelmoimalla\n",
    "\n",
    "\n",
    "## 1 Python-ohjelmoinnin perusteet\n",
    "- tulostaminen print-komennolla ja ilman print-komentoa Jupyter Notebookissa.\n",
    "- muuttujat, muuttujien tyypit ja muunnokset tyyppien välillä.\n",
    "- peruslaskutoimitukset\n",
    "\n",
    "\n"
   ]
  },
  {
   "cell_type": "markdown",
   "metadata": {},
   "source": [
    "### Tulostaminen"
   ]
  },
  {
   "cell_type": "code",
   "execution_count": 3,
   "metadata": {},
   "outputs": [
    {
     "name": "stdout",
     "output_type": "stream",
     "text": [
      "20\n",
      "kissa 6 koira\n"
     ]
    }
   ],
   "source": [
    "# Tämä rivi on kommentti. Ohjelmointi alkaa tästä, kirjoita koodi alle.\n",
    "print(10 + 10)\n",
    "\n",
    "# print()-funktio voi sisältää useamman argumentin pilkulla eroteltuina\n",
    "print(\"kissa\", 5+1, \"koira\")"
   ]
  },
  {
   "cell_type": "markdown",
   "metadata": {},
   "source": [
    "### Muuttujat\n",
    "\n",
    "Muuttujat on ohjelmointikielissä tapa tallentaa tietoa tietokoneen muistiin. Jokaisella muuttujalla on pythonissa nimi, tyyppi ja arvo. Pythonissa ei voi määrittää muuttujan tyyppiä suoraan, vaan se tapahtuu antamalla sille tietyn tyyppinen arvo.\n",
    "\n",
    "Pythonissa on 4 alkeellista tietotyyppiä:\n",
    "1. **int**eger\n",
    "Kokonaisluku\n",
    "2. **float**\n",
    "Liukuluku eli desimaaliluku\n",
    "3. **str**ing\n",
    "Merkkijono\n",
    "4. **bool**ean\n",
    "Totuusarvo. Ainoat mahdolliset arvot ovat `True` ja `False`.\n",
    "Minkä tahansa nollasta poikkeavan luvun voi muuntaa `True`:ksi ja nollan `False`ksi.\n",
    "Tyhjä merkkijono `\"\"` muuntuu myös `False`:ksi.\n",
    "\n",
    "Muut tyypit on yleensä määritelty näillä neljällä alkeellisella tyypillä.\n",
    "\n",
    "Tyyppien lyhenteet on tummennettu.\n",
    "Lyhenteiden nimiset funktiot ottavat parametrikseen arvon ja yrittävät palauttaa funktiota vastaavan arvon ja tyypin.\n",
    "\n",
    "\n"
   ]
  },
  {
   "cell_type": "code",
   "execution_count": 8,
   "metadata": {},
   "outputs": [],
   "source": [
    "x = 2\n",
    "y = 4.56\n",
    "a = \"moi\"\n",
    "onkoValmis = True"
   ]
  },
  {
   "cell_type": "code",
   "execution_count": 9,
   "metadata": {},
   "outputs": [
    {
     "name": "stdout",
     "output_type": "stream",
     "text": [
      "2\n"
     ]
    }
   ],
   "source": [
    "print(x)"
   ]
  },
  {
   "cell_type": "code",
   "execution_count": 10,
   "metadata": {},
   "outputs": [
    {
     "name": "stdout",
     "output_type": "stream",
     "text": [
      "4.56\n",
      "moi\n",
      "False\n"
     ]
    }
   ],
   "source": [
    "print(y)\n",
    "print(a)\n",
    "print(not onkoValmis)"
   ]
  },
  {
   "cell_type": "markdown",
   "metadata": {},
   "source": [
    "### Lisää muuttujista\n",
    "\n",
    "Muuttujan nimi voi olla melkein mikä tahansa merkki- tai kirjainyhdistelmä, mutta ota huomioon seuraavat asiat:\n",
    "\n",
    "1. Nimi ei saa alkaa numerolla\n",
    "2. Nimessä ei saa olla välilyöntejä\n",
    "3. Ainoa erikoismerkki, jota saa käyttää nimissä, on alaviiva `_`\n",
    "4. Kirjainkoolla on väliä. `Kameli` ja `kameli` ovat eri muuttujia\n",
    "5. Yritä tehdä muuttujien nimistä järkeviä ja käyttöä vastaavia.\n",
    "Esimerkiksi `username` on paljon järkevämpi nimi muuttujalle kuin `asdf`\n",
    "\n",
    "\n",
    "Muuttujan voi luoda käyttämällä merkintää `muuttuja = \"arvo\"`, jossa yhtäsuuruusmerkin vasemmalla puolella on muuttujan nimi ja oikealla siihen tallennettava arvo. Esimerkiksi allaoleva ohjelma tulostaa `Hello world!`:"
   ]
  },
  {
   "cell_type": "code",
   "execution_count": 11,
   "metadata": {},
   "outputs": [
    {
     "name": "stdout",
     "output_type": "stream",
     "text": [
      "Hello world!\n"
     ]
    }
   ],
   "source": [
    "eka = \"Hello\"\n",
    "toka = \"world!\"\n",
    "\n",
    "print(eka,toka)"
   ]
  },
  {
   "cell_type": "markdown",
   "metadata": {},
   "source": [
    "### Operaattorit ja vertailu\n",
    "\n",
    "Pythonissa voidaan käyttää matemaattisia operaattoreita lukujen käsittelyyn. "
   ]
  },
  {
   "cell_type": "markdown",
   "metadata": {},
   "source": [
    "Esimerkkejä peruslaskutoimituksista"
   ]
  },
  {
   "cell_type": "code",
   "execution_count": 12,
   "metadata": {},
   "outputs": [
    {
     "name": "stdout",
     "output_type": "stream",
     "text": [
      "6\n",
      "-3\n",
      "1.5\n",
      "14\n",
      "8\n"
     ]
    }
   ],
   "source": [
    "# Kirjoita esimerkkejä tähän\n",
    "print(3 + 3)\n",
    "print(2 - 5)\n",
    "# jakolasku tuloksena liukuluku eli desimaaliluku\n",
    "print(6 / 4)\n",
    "print(2 * 7)\n",
    "# Potenssi\n",
    "print(2**3)\n"
   ]
  },
  {
   "cell_type": "markdown",
   "metadata": {},
   "source": [
    "Jos `int` ja `float` ovat samassa laskussa, tulos on tyyppiä float"
   ]
  },
  {
   "cell_type": "code",
   "execution_count": 4,
   "metadata": {},
   "outputs": [
    {
     "data": {
      "text/plain": [
       "10.2"
      ]
     },
     "execution_count": 4,
     "metadata": {},
     "output_type": "execute_result"
    }
   ],
   "source": [
    "10 + 0.2"
   ]
  },
  {
   "cell_type": "markdown",
   "metadata": {},
   "source": [
    "Normaali jakolasku: antaa luvun aina `float`-muodossa"
   ]
  },
  {
   "cell_type": "code",
   "execution_count": 17,
   "metadata": {},
   "outputs": [
    {
     "data": {
      "text/plain": [
       "2.0"
      ]
     },
     "execution_count": 17,
     "metadata": {},
     "output_type": "execute_result"
    }
   ],
   "source": [
    "10/5"
   ]
  },
  {
   "cell_type": "markdown",
   "metadata": {},
   "source": [
    "Alaspäin pyöristävä jakolasku: antaa luvun aina int-muodossa"
   ]
  },
  {
   "cell_type": "code",
   "execution_count": 13,
   "metadata": {},
   "outputs": [
    {
     "data": {
      "text/plain": [
       "2"
      ]
     },
     "execution_count": 13,
     "metadata": {},
     "output_type": "execute_result"
    }
   ],
   "source": [
    "# kokonaisjako\n",
    "11//5"
   ]
  },
  {
   "cell_type": "markdown",
   "metadata": {},
   "source": [
    "Potenssi"
   ]
  },
  {
   "cell_type": "code",
   "execution_count": 6,
   "metadata": {},
   "outputs": [
    {
     "data": {
      "text/plain": [
       "1.4142135623730951"
      ]
     },
     "execution_count": 6,
     "metadata": {},
     "output_type": "execute_result"
    }
   ],
   "source": [
    "# Neliöjuuri\n",
    "2**0.5"
   ]
  },
  {
   "cell_type": "markdown",
   "metadata": {},
   "source": [
    "Jakojäännös lasketaan `%`-operaattorilla:"
   ]
  },
  {
   "cell_type": "code",
   "execution_count": 39,
   "metadata": {},
   "outputs": [
    {
     "data": {
      "text/plain": [
       "1"
      ]
     },
     "execution_count": 39,
     "metadata": {},
     "output_type": "execute_result"
    }
   ],
   "source": [
    "13 % 2"
   ]
  },
  {
   "cell_type": "markdown",
   "metadata": {},
   "source": [
    "\n",
    "Laskujärjestystä voi tarvittaessa muuttaa suluilla: `(4+10)*4` on 56.\n",
    "\n",
    "Usein on tarpeellista muuttaa muuttujan arvoa, esimerkiksi lisäämällä siihen jotain:\n",
    "\n"
   ]
  },
  {
   "cell_type": "code",
   "execution_count": 14,
   "metadata": {},
   "outputs": [
    {
     "data": {
      "text/plain": [
       "14"
      ]
     },
     "execution_count": 14,
     "metadata": {},
     "output_type": "execute_result"
    }
   ],
   "source": [
    "(3 + 4)*2"
   ]
  },
  {
   "cell_type": "code",
   "execution_count": 15,
   "metadata": {},
   "outputs": [
    {
     "name": "stdout",
     "output_type": "stream",
     "text": [
      "3.141592653589793\n",
      "2.718281828459045\n",
      "Luvun 144 neliöjuuri: 12.0\n",
      "1.0\n",
      "x= 36.86989764584402\n",
      "0.7071067811865476\n"
     ]
    }
   ],
   "source": [
    "# Matematiikan vakioita ja funktioita\n",
    "# Tuodaan kirjasto math käyttöön komennolla import\n",
    "import math\n",
    "print(math.pi)\n",
    "\n",
    "# Neperin luku\n",
    "print(math.e)\n",
    "\n",
    "# Neliöjuuri\n",
    "print('Luvun 144 neliöjuuri:', math.sqrt(144))\n",
    "\n",
    "# trigonometriset funktiot on määritelty radiaaneissa\n",
    "print(math.sin(math.pi/2))\n",
    "\n",
    "# tulostetaan yhtälön sin(x)= 0.6 ratkaisu eli x=arcsin(0.6)\n",
    "print('x=',math.asin(0.6)*180/math.pi)\n",
    "# käänteisfunktiot ovat muotoa: atan(x), asin(x) ja acos(x)\n",
    "\n",
    "# Määritellään kulma asteina ja muutetaan se radiaaneiksi ja lasketaan kulman kosini\n",
    "angle_degrees = 45\n",
    "angle_radians = 45*math.pi/180\n",
    "print(math.cos(angle_radians))\n"
   ]
  },
  {
   "cell_type": "markdown",
   "metadata": {},
   "source": [
    "### Tehtävä 1.1\n",
    "\n",
    "Tee ohjelma, jossa määritellään kolme muuttujaa, joiden arvot ovat lukuja. Ohjelma laskee ja tulostaa lukujen summan ja keskiarvon.\n"
   ]
  },
  {
   "cell_type": "code",
   "execution_count": 48,
   "metadata": {},
   "outputs": [
    {
     "name": "stdout",
     "output_type": "stream",
     "text": [
      "27\n",
      "9.0\n"
     ]
    }
   ],
   "source": [
    "muuttuja_1 = 10\n",
    "muuttuja_2 = 8\n",
    "muuttuja_3 = 9\n",
    "\n",
    "summa = muuttuja_1 + muuttuja_2 + muuttuja_3\n",
    "\n",
    "print(summa)\n",
    "\n",
    "keskiarvo = summa/3\n",
    "\n",
    "print(keskiarvo)"
   ]
  },
  {
   "cell_type": "markdown",
   "metadata": {},
   "source": [
    "### Tehtävä 1.2\n",
    "Tee ohjelma, jossa määritellään pallon säde, ja ohjelma tulostaa pallon tilavuuden ja pinta-alan. Pallon pinta-ala ja tilavuus lasketaan kaavoilla\n",
    "\n",
    "$$\n",
    "A=4\\pi\\cdot r^2 \\ \\text{ja} \\ V=\\frac{4}{3}\\pi r^3 \n",
    "$$"
   ]
  },
  {
   "cell_type": "code",
   "execution_count": 13,
   "metadata": {},
   "outputs": [
    {
     "name": "stdout",
     "output_type": "stream",
     "text": [
      "Pinta-ala: 1256.6370614359173\n",
      "Tilavuus: 4188.790204786391\n"
     ]
    }
   ],
   "source": [
    "import math\n",
    "\n",
    "r = 10.0\n",
    "\n",
    "A = 4 * math.pi * r ** 2\n",
    "\n",
    "V = 4/3 * math.pi * r**3\n",
    "\n",
    "print(\"Pinta-ala:\", A)\n",
    "print(\"Tilavuus:\", V)"
   ]
  },
  {
   "cell_type": "markdown",
   "metadata": {},
   "source": [
    "Käyttäjältä voi kysyä syötettä `input()`-funktion avulla. Huomaa, että input palauttaa arvon merkkijonona (str). Jos haluat käyttää arvoja laskutoimituksissa, niin sinun on tehtävä tyyppimuunnos `int()` tai `float()`-funktoiden avulla. **HUOMAA:** Ohjelmoinnissa käytettävien muuttujien (r = 10.0) alkuarvoja voi muuttaa ohjelmakoodissa  (kuten tehtävässä 1.2) ilman input-funktion käyttöä."
   ]
  },
  {
   "cell_type": "code",
   "execution_count": 16,
   "metadata": {},
   "outputs": [
    {
     "name": "stdout",
     "output_type": "stream",
     "text": [
      "Ohjelma laskee pallon tilavuuden ja pinta-alan.\n",
      "Anna pallon säde desimaalilukuna\n",
      "10.0\n",
      "Pinta-ala: 1256.6370614359173\n",
      "Tilavuus: 4188.790204786391\n"
     ]
    }
   ],
   "source": [
    "# T1.2 ja input\n",
    "print(\"Ohjelma laskee pallon tilavuuden ja pinta-alan.\")\n",
    "r = float(input(\"Anna pallon säde desimaalilukuna\\n\"))\n",
    "A = 4 * math.pi * r ** 2\n",
    "\n",
    "V = 4/3 * math.pi * r**3\n",
    "\n",
    "print(\"Pinta-ala:\", A)\n",
    "print(\"Tilavuus:\", V)"
   ]
  },
  {
   "cell_type": "code",
   "execution_count": 17,
   "metadata": {},
   "outputs": [
    {
     "name": "stdout",
     "output_type": "stream",
     "text": [
      "Tilavuus: 4188.79\n"
     ]
    }
   ],
   "source": [
    "# pyöristys round()-funktiolla 2 desimaalin tarkkuuteen\n",
    "print(\"Tilavuus:\", round(V,2))"
   ]
  },
  {
   "cell_type": "markdown",
   "metadata": {},
   "source": [
    "## Tehtävä 1.3\n",
    "Tee ohjelma, joka laskee tunnetusta pallon pinta-alasta pallon säteen ja pallon tilavuuden.\n",
    "\n",
    "$$\n",
    "A=4\\cdot\\pi\\cdot r^{\\ 2}\\Rightarrow r=\\sqrt{\\frac{A}{4\\pi}}\n",
    "$$"
   ]
  },
  {
   "cell_type": "code",
   "execution_count": 20,
   "metadata": {},
   "outputs": [
    {
     "name": "stdout",
     "output_type": "stream",
     "text": [
      "Pallon säde on  0.8920620580763856\n",
      "Pallon tilavuus on  2.974 tilavuusyksikköä\n"
     ]
    }
   ],
   "source": [
    "import math\n",
    "A = 10\n",
    "r = math.sqrt(A/(4*math.pi))\n",
    "\n",
    "V = 4/3 * math.pi * r**3\n",
    "\n",
    "print(\"Pallon säde on \", r)\n",
    "print(\"Pallon tilavuus on \", round(V,3), \"tilavuusyksikköä\")"
   ]
  },
  {
   "cell_type": "markdown",
   "metadata": {},
   "source": [
    "### Tehtävä 1.4\n",
    "Suorakulmion sivujen pituus on 50 cm ja 30 cm. Tee ohjelma, joka tulostaa suorakulmion piirin ja pinta-alan."
   ]
  },
  {
   "cell_type": "code",
   "execution_count": 17,
   "metadata": {},
   "outputs": [
    {
     "name": "stdout",
     "output_type": "stream",
     "text": [
      "suorakulmion pinta-ala on 1500 cm^2\n"
     ]
    }
   ],
   "source": [
    "# Kirjoita koodi tähän\n",
    "kanta = 50\n",
    "korkeus = 30\n",
    "print(\"suorakulmion pinta-ala on\", kanta*korkeus, \"cm^2\")"
   ]
  },
  {
   "cell_type": "markdown",
   "metadata": {},
   "source": [
    "### Tehtävä 1.5\n",
    "Kuution tilavuus on 500 litraa. Mikä on tahkojen yhteispinta-ala? $V=a^3$, eli\n",
    "$a = \\sqrt[3]{V}$= $V^{1/3}$"
   ]
  },
  {
   "cell_type": "code",
   "execution_count": 25,
   "metadata": {},
   "outputs": [
    {
     "name": "stdout",
     "output_type": "stream",
     "text": [
      "Sivun pituus: 7.937005259840997\n",
      "Tahkojen pinta-ala 377.9763149684619\n"
     ]
    }
   ],
   "source": [
    "# Tuodaan kirjasto käyttöön\n",
    "import math\n",
    "\n",
    "V = 500 # yksikkö on l eli dm^3\n",
    "\n",
    "# Lasketaan kuution sivun pituus a\n",
    "a = V ** (1/3)\n",
    "print(\"Sivun pituus:\", a)\n",
    "# Lasketaan pinta-ala\n",
    "A = 6 * a ** 2\n",
    "print(\"Tahkojen pinta-ala\", A)"
   ]
  },
  {
   "cell_type": "markdown",
   "metadata": {},
   "source": [
    "### Tehtävä 1.6\n",
    "Puhelinliittymän A kuukausimaksu on 6 euroa ja minuuttitaksa 0.15 eur/min. Tee ohjelma, jonka avulla voi tutkia\n",
    "puhelinlaskua erilaisilla puheajoilla. Puhelinliittymän B kiinteä kuukausimaksu on 15 euroa. Etsi kokeilemalla eli haarukoi kuinka paljon pitää puhua, että liittymä B tulee halvemmaksi?"
   ]
  },
  {
   "cell_type": "code",
   "execution_count": 1,
   "metadata": {},
   "outputs": [
    {
     "name": "stdout",
     "output_type": "stream",
     "text": [
      "Kun on puhuttu  60  minuuttia, rahaa on kulunut  15.0  euroa.\n"
     ]
    }
   ],
   "source": [
    "# Kirjoita vastaus tähän\n",
    "# Syötä aika minuutteina, voit vaihtaa muuttujan t arvoa\n",
    "time = 60\n",
    "value = 6 + 0.15 * time\n",
    "print(\"Kun on puhuttu \", time, \" minuuttia, rahaa on kulunut \", value, \" euroa.\")\n"
   ]
  },
  {
   "cell_type": "markdown",
   "metadata": {},
   "source": [
    "### Tehtävä 1.7\n",
    "Jaettava on luku 145 ja jakaja on luku 6. Tee ohjelma, joka tulostaa jakolaskun osamäärän ja jakojäännöksen."
   ]
  },
  {
   "cell_type": "code",
   "execution_count": 5,
   "metadata": {},
   "outputs": [
    {
     "name": "stdout",
     "output_type": "stream",
     "text": [
      "145  jaettuna  6  on  24  ja jakojäännös on  1\n"
     ]
    }
   ],
   "source": [
    "jaettava = 145\n",
    "jakaja = 6\n",
    "print(jaettava, \" jaettuna \", jakaja, \" on \", jaettava // jakaja, \" ja jakojäännös on \", jaettava % jakaja)"
   ]
  },
  {
   "cell_type": "markdown",
   "metadata": {},
   "source": [
    "### Tehtäviä 1.8\n",
    "\n",
    "1. Luo kaksi muuttujaa: tallenna toiseen merkkijono `Hei,` ja toiseen joku nimi. Tulosta ne niin, että tuloste on esimerkiksi `Hei, Maria`\n",
    "3. Luo neljä muuttujaa, joiden tyypit ovat int, float, str ja bool. Tarkista ja tulosta tyypit `type`-funktiolla."
   ]
  },
  {
   "cell_type": "code",
   "execution_count": 21,
   "metadata": {},
   "outputs": [
    {
     "name": "stdout",
     "output_type": "stream",
     "text": [
      "Hei,  Herbert\n"
     ]
    }
   ],
   "source": [
    "tervehdys = \"Hei, \"\n",
    "nimi = \"Herbert\"\n",
    "print(tervehdys, nimi)"
   ]
  },
  {
   "cell_type": "markdown",
   "metadata": {},
   "source": [
    "### Lisätietoa muuttujien tyypeistä pythonissa\n",
    "\n",
    "Muuttujan tyypin voi selvittää funktiolla `type`:"
   ]
  },
  {
   "cell_type": "code",
   "execution_count": 22,
   "metadata": {},
   "outputs": [
    {
     "data": {
      "text/plain": [
       "int"
      ]
     },
     "execution_count": 22,
     "metadata": {},
     "output_type": "execute_result"
    }
   ],
   "source": [
    "# Suorita alla oleva koodi\n",
    "numero = 2\n",
    "type(numero)"
   ]
  },
  {
   "cell_type": "code",
   "execution_count": 23,
   "metadata": {},
   "outputs": [
    {
     "data": {
      "text/plain": [
       "str"
      ]
     },
     "execution_count": 23,
     "metadata": {},
     "output_type": "execute_result"
    }
   ],
   "source": [
    "# Suorita alla oleva koodi\n",
    "merkki = \"2\"\n",
    "type(merkki)"
   ]
  },
  {
   "cell_type": "code",
   "execution_count": 21,
   "metadata": {},
   "outputs": [
    {
     "data": {
      "text/plain": [
       "float"
      ]
     },
     "execution_count": 21,
     "metadata": {},
     "output_type": "execute_result"
    }
   ],
   "source": [
    "# Suorita \n",
    "liukuluku = 2.345\n",
    "type(liukuluku)"
   ]
  },
  {
   "cell_type": "code",
   "execution_count": null,
   "metadata": {},
   "outputs": [],
   "source": []
  }
 ],
 "metadata": {
  "kernelspec": {
   "display_name": "Python 3 (ipykernel)",
   "language": "python",
   "name": "python3"
  },
  "language_info": {
   "codemirror_mode": {
    "name": "ipython",
    "version": 3
   },
   "file_extension": ".py",
   "mimetype": "text/x-python",
   "name": "python",
   "nbconvert_exporter": "python",
   "pygments_lexer": "ipython3",
   "version": "3.10.0"
  }
 },
 "nbformat": 4,
 "nbformat_minor": 4
}
