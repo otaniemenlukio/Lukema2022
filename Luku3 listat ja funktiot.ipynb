{
 "cells": [
  {
   "cell_type": "markdown",
   "id": "a4485f3f",
   "metadata": {},
   "source": [
    "# Luku 3 Listat ja funktiot\n",
    "\n",
    "## Listat\n",
    "\n",
    "Lista on tietorakenne, eli vähän kuin muuttujatyyppi. Sen avulla yhteen muuttujaan voidaan tallentaa monta arvoa. \n",
    "\n",
    "Lista luodaan hakasuluilla [ ]."
   ]
  },
  {
   "cell_type": "code",
   "execution_count": null,
   "id": "58bbce01",
   "metadata": {},
   "outputs": [],
   "source": [
    "# Luodaan muuttuja lista, joka on tyhjä lista\n",
    "lista = []"
   ]
  },
  {
   "cell_type": "markdown",
   "id": "013a4628",
   "metadata": {},
   "source": [
    "Muuttujassa `lista` on nyt tyhjä lista.\n",
    "\n",
    "\n",
    "Jos listaan haluaa alussa tietoja, ne erotetaan pilkulla:"
   ]
  },
  {
   "cell_type": "code",
   "execution_count": null,
   "id": "b692c30b",
   "metadata": {},
   "outputs": [],
   "source": [
    "a = [3, 4, 5, 6]"
   ]
  },
  {
   "cell_type": "markdown",
   "id": "ecb57a85",
   "metadata": {},
   "source": [
    "Pythonissa lista voi sisältää mitä tahansa muuttujatyyppejä, myös muita listoja. Yleensä kuitenkin yhdessä listassa kannattaa olla vain yhtä muuttujatyyppiä, eli ei esimerkiksi sekoita numeroita ja merkkijonoja.\n",
    "\n",
    "\n",
    "Listan loppuun voi lisätä alkion `append`-metodilla:"
   ]
  },
  {
   "cell_type": "code",
   "execution_count": null,
   "id": "6d4e4923",
   "metadata": {},
   "outputs": [],
   "source": [
    "lista = []\n",
    "lista.append(0)\n",
    "lista.append(1)"
   ]
  },
  {
   "cell_type": "markdown",
   "id": "f3104409",
   "metadata": {},
   "source": [
    "Listan alkioita voi käsitellä `[]`-merkinnällä, jossa hakasulkujen väliin tulee alkion paikka eli indeksi:"
   ]
  },
  {
   "cell_type": "code",
   "execution_count": null,
   "id": "3ef75589",
   "metadata": {},
   "outputs": [],
   "source": [
    "lista = []\n",
    "lista.append(\"a\")\n",
    "lista.append(\"b\")\n",
    "lista.append(\"c\")\n",
    "\n",
    "print(lista[0])\n",
    "print(lista[1])\n",
    "print(lista[2])"
   ]
  },
  {
   "cell_type": "markdown",
   "id": "80c7e458",
   "metadata": {},
   "source": [
    "Tulostaa a, b, c. Pythonissa listat alkavat nollasta, eli ensimmäisen paikka on 0.\n",
    "\n",
    "Listan voi järjestää metodilla `sort`:"
   ]
  },
  {
   "cell_type": "code",
   "execution_count": 2,
   "id": "de242652",
   "metadata": {},
   "outputs": [
    {
     "name": "stdout",
     "output_type": "stream",
     "text": [
      "[1, 2, 3, 4, 5, 6, 7, 8, 9, 10]\n"
     ]
    }
   ],
   "source": [
    "lista = [7, 8, 9, 10, 6, 4, 1, 3, 5, 2]\n",
    "\n",
    "lista.sort()\n",
    "\n",
    "print(lista)"
   ]
  },
  {
   "cell_type": "markdown",
   "id": "dd2e9219",
   "metadata": {},
   "source": [
    "Listoja käydään usein läpi `for`-silmukan avulla:"
   ]
  },
  {
   "cell_type": "markdown",
   "id": "3962bea9",
   "metadata": {},
   "source": [
    "Listaan voi kysyä monta lukua käyttäjältä, esimerkki:"
   ]
  },
  {
   "cell_type": "code",
   "execution_count": null,
   "id": "95a7af3f",
   "metadata": {},
   "outputs": [],
   "source": [
    "n = int(input(\"Monenko luvun keskiarvon haluat laskea? \"))\n",
    "\n",
    "lista = []\n",
    "\n",
    "for i in range(n):\n",
    "    luku = float(input(\"Anna luku \"))\n",
    "    lista.append(luku)\n",
    "\n",
    "summa = 0\n",
    "\n",
    "for luku in lista:\n",
    "    summa = summa + luku\n",
    "print(\"Keskiarvo on\", summa / n)"
   ]
  },
  {
   "cell_type": "markdown",
   "id": "1c29b1f1",
   "metadata": {},
   "source": [
    "Listoja voi yhdistää `+ -`merkeillä:"
   ]
  },
  {
   "cell_type": "code",
   "execution_count": null,
   "id": "1a42a73b",
   "metadata": {},
   "outputs": [],
   "source": [
    "print([0, 1, 2] + [3, 4, 5])"
   ]
  },
  {
   "cell_type": "markdown",
   "id": "9af050b8",
   "metadata": {},
   "source": [
    "Listan pituuden saa selville `len`-funktiolla:"
   ]
  },
  {
   "cell_type": "code",
   "execution_count": null,
   "id": "3e8fd4e3",
   "metadata": {},
   "outputs": [],
   "source": [
    "lista = [0, 1, 2, 3, 4, 5, 6]\n",
    "print(len(lista))"
   ]
  },
  {
   "cell_type": "markdown",
   "id": "51b9c52b",
   "metadata": {},
   "source": [
    "## Tehtäviä listoista\n",
    "\n",
    "### Tehtävä 3.1\n",
    "Tee ohjelma, joka etsii suurimman ja pienimmän luvun listasta:"
   ]
  },
  {
   "cell_type": "code",
   "execution_count": null,
   "id": "0bbf19e0",
   "metadata": {},
   "outputs": [],
   "source": [
    "# käytä valmista listaa testaukseen\n",
    "lista = [7, 8, 11, 10, 6, 4, 108, 3, 55, 22]"
   ]
  },
  {
   "cell_type": "markdown",
   "id": "2e1dbf1b",
   "metadata": {},
   "source": [
    "###  Tehtävä 3.2\n",
    "Alla on lista, jossa on 100 kappaletta satunnaisia lukuja\n",
    "\n",
    "a) tee ohjelma joka laskee ja tulostaa listassa olevien lukujen summan.\n",
    "\n",
    "b) tee ohjelma, joka laskee ja tulostaa listan parillisten lukujen summan.\n",
    "\n",
    "c) Kirjoita ohjelma, joka tulostaa listan suurimman ja piennimmän luvun.\n",
    "\n",
    "d) Kirjoita ohjelma, joka kertoo listan kahden peräkkäisen jäsenen suurimman erotuksen.\n",
    "\n"
   ]
  },
  {
   "cell_type": "code",
   "execution_count": 3,
   "id": "95a9b844",
   "metadata": {},
   "outputs": [
    {
     "name": "stdout",
     "output_type": "stream",
     "text": [
      "Lukujen summa: 49202\n"
     ]
    }
   ],
   "source": [
    "# Kirjoita ohjelmasi tähän\n",
    "\n",
    "lista = [932, 168, 876, 250, 426, 231, 554, 105, 888, 684, 639, 131, 140, 382, 479, 402, 125, 264, 286, 290, 205, 944, 761, 735, 611, 646, 908, 438, 852, 937, 397, 503, 591, 736, 734, 124, 434, 952, 269, 13, 164, 161, 128, 170, 646, 200, 331, 946, 590, 973, 569, 784, 778, 358, 463, 712, 283, 357, 959, 598, 518, 853, 305, 767, 44, 135, 175, 407, 677, 749, 714, 517, 766, 346, 488, 687, 338, 375, 341, 582, 912, 389, 224, 326, 561, 106, 756, 709, 445, 106, 727, 258, 671, 48, 857, 69, 171, 840, 335, 696]\n",
    "\n",
    "# lasketaan lukujen summa\n",
    "summa = 0\n",
    "\n",
    "for luku in lista:\n",
    "    summa = summa + luku\n",
    "    # summa += luku \n",
    "\n",
    "    \n",
    "print(\"Lukujen summa:\", summa)\n",
    "\n",
    "\n"
   ]
  },
  {
   "cell_type": "code",
   "execution_count": 4,
   "id": "5fd9730e",
   "metadata": {},
   "outputs": [
    {
     "name": "stdout",
     "output_type": "stream",
     "text": [
      "Parillisten lukujen summa:  27452\n",
      "Parittomien summa:  21750\n"
     ]
    }
   ],
   "source": [
    "# parillisten ja parittomien lukujen summa\n",
    "parillinen_summa  = 0\n",
    "parittomien_summa = 0\n",
    "\n",
    "for luku in lista:\n",
    "    # lasketaan jakojäännös\n",
    "    if luku % 2 == 0:\n",
    "        parillinen_summa += luku\n",
    "    else:\n",
    "        parittomien_summa += luku\n",
    "\n",
    "print(\"Parillisten lukujen summa: \", parillinen_summa)\n",
    "print(\"Parittomien summa: \", parittomien_summa)"
   ]
  },
  {
   "cell_type": "code",
   "execution_count": 5,
   "id": "05852f38",
   "metadata": {},
   "outputs": [
    {
     "name": "stdout",
     "output_type": "stream",
     "text": [
      "suurin erotus on 809 kun ollaan listan indeksissä 93\n",
      "48\n",
      "857\n"
     ]
    }
   ],
   "source": [
    "# Käytetään alkuperäistä listaa, jota ei ole järjestetty\n",
    "# Kirjoita ohjelma, joka kertoo listan kahden peräkkäisen jäsenen suurimman erotuksen.\n",
    "lista = [932, 168, 876, 250, 426, 231, 554, 105, 888, 684, 639, 131, 140, 382, 479, 402, 125, 264, 286, 290, 205, 944, 761, 735, 611, 646, 908, 438, 852, 937, 397, 503, 591, 736, 734, 124, 434, 952, 269, 13, 164, 161, 128, 170, 646, 200, 331, 946, 590, 973, 569, 784, 778, 358, 463, 712, 283, 357, 959, 598, 518, 853, 305, 767, 44, 135, 175, 407, 677, 749, 714, 517, 766, 346, 488, 687, 338, 375, 341, 582, 912, 389, 224, 326, 561, 106, 756, 709, 445, 106, 727, 258, 671, 48, 857, 69, 171, 840, 335, 696]\n",
    "\n",
    "suurin_erotus = 0\n",
    "kohta = 0\n",
    "\n",
    "for j in range (len(lista)-1):\n",
    "    if suurin_erotus < lista[j+1] - lista[j]:\n",
    "        suurin_erotus = lista[j+1] - lista[j]\n",
    "        kohta = j\n",
    "\n",
    "print(\"suurin erotus on\", suurin_erotus, \"kun ollaan listan indeksissä\", kohta)\n",
    "print(lista[kohta])\n",
    "print(lista[kohta+1])"
   ]
  },
  {
   "cell_type": "markdown",
   "id": "dd41bc9a",
   "metadata": {},
   "source": [
    "### Tehtävä 3.3\n",
    "Alla tilastomatikan kaavoja käsitteitä.\n",
    "\n",
    "Moodi eli tyyppiarvo on havaintoaineistossa useimmiten esiintyvä arvo.\n",
    "\n",
    "\n",
    "mediaani = Satunnaismuuttujan keskimmäinen arvo, jos arvot lueteltu peräkkäin. Mediaanin kohdalla suhteellinen summafrekvenssi ylittää 50%ia.\n",
    "\n",
    "\n",
    "Alla olevassa koodissa taulukko lkm esittää lukiolaisten päivittäin seuraamien uutissivustojen lukumäärää. Taulukossa frekvenssi on esitetty jakauma miten lukiolaiset vastasivat uutissivustojen lukumäärää selvittävään kyselyyn.\n",
    "\n",
    "Ohjelma tulostaa kuinka monta lukiolaista kyselyyn osallistui. Ohjelma tulostaa seurattujen uutissivustojen lukumäärän tyyppiarvon ja mediaanin ja kuinka moni seurasi suosituinta sivustoa.\n"
   ]
  },
  {
   "cell_type": "code",
   "execution_count": null,
   "id": "571ddaac",
   "metadata": {},
   "outputs": [],
   "source": [
    "# kirjoita vastauksesi tähän\n",
    "lkm = [0, 1, 2, 3, 4]\n",
    "frekvenssi = [15, 55, 45, 30, 5]\n"
   ]
  },
  {
   "cell_type": "code",
   "execution_count": 7,
   "id": "4a7b33bd",
   "metadata": {},
   "outputs": [
    {
     "name": "stdout",
     "output_type": "stream",
     "text": [
      "Osallistujia oli  150 kpl\n"
     ]
    }
   ],
   "source": [
    "# kirjoita vastauksesi tähän\n",
    "lkm = [0, 1, 2, 3, 4]\n",
    "frekvenssi = [15, 55, 45, 30, 5]\n",
    "\n",
    "# osallistujien lukumäärä tutkimuksessa\n",
    "summa = 0\n",
    "for luku in frekvenssi:\n",
    "    summa += luku\n",
    "print(\"Osallistujia oli \", summa, \"kpl\")"
   ]
  },
  {
   "cell_type": "code",
   "execution_count": 8,
   "id": "b2713503",
   "metadata": {},
   "outputs": [
    {
     "name": "stdout",
     "output_type": "stream",
     "text": [
      "[0, 0, 0, 0, 0, 0, 0, 0, 0, 0, 0, 0, 0, 0, 0, 1, 1, 1, 1, 1, 1, 1, 1, 1, 1, 1, 1, 1, 1, 1, 1, 1, 1, 1, 1, 1, 1, 1, 1, 1, 1, 1, 1, 1, 1, 1, 1, 1, 1, 1, 1, 1, 1, 1, 1, 1, 1, 1, 1, 1, 1, 1, 1, 1, 1, 1, 1, 1, 1, 1, 2, 2, 2, 2, 2, 2, 2, 2, 2, 2, 2, 2, 2, 2, 2, 2, 2, 2, 2, 2, 2, 2, 2, 2, 2, 2, 2, 2, 2, 2, 2, 2, 2, 2, 2, 2, 2, 2, 2, 2, 2, 2, 2, 2, 2, 3, 3, 3, 3, 3, 3, 3, 3, 3, 3, 3, 3, 3, 3, 3, 3, 3, 3, 3, 3, 3, 3, 3, 3, 3, 3, 3, 3, 3, 3, 4, 4, 4, 4, 4]\n",
      "Mediaani, eli järjesten listan keskimmäinen: 2.0 seurattua uutissivua\n"
     ]
    }
   ],
   "source": [
    "# kerätään vastaukset yhteen listaan\n",
    "vastaukset = []\n",
    "\n",
    "for i in range (len(frekvenssi)):\n",
    "    vastaukset +=[lkm[i]]*frekvenssi[i]\n",
    "    \n",
    "vastaukset.sort()\n",
    "print(vastaukset)\n",
    "\n",
    "keski1 = vastaukset[len(vastaukset) // 2 - 1]\n",
    "keski2 = vastaukset[len(vastaukset) // 2]\n",
    "keski = (keski1 + keski2) / 2\n",
    "print(\"Mediaani, eli järjesten listan keskimmäinen:\", keski, \"seurattua uutissivua\")"
   ]
  },
  {
   "cell_type": "code",
   "execution_count": 9,
   "id": "9c6706b6",
   "metadata": {},
   "outputs": [
    {
     "name": "stdout",
     "output_type": "stream",
     "text": [
      "Suurin frekvenssi on 55 . Eli eniten seurataa  1 tiktok-kanavaa.\n"
     ]
    }
   ],
   "source": [
    "# etsitään suurin frekvenssi:\n",
    "suurin = 0\n",
    "kohta = 0\n",
    "suurimman_kohta = 0\n",
    "for luku in frekvenssi:\n",
    "    if luku > suurin:\n",
    "        suurin = luku\n",
    "        suurin_kohta = kohta\n",
    "    kohta += 1\n",
    "\n",
    "print(\"Suurin frekvenssi on\", suurin, \". Eli eniten seurataa \", lkm[suurin_kohta],\"tiktok-kanavaa.\")"
   ]
  },
  {
   "cell_type": "markdown",
   "id": "0cc88ae9",
   "metadata": {},
   "source": [
    "### Funktiot Matematiikassa\n",
    "Matematiikassa funktion voi ajatella olevan operaatio, joka muokkaa lukuja. Operaation jälkeen saadaan uusi luku.\n",
    "\n",
    "$f(x) = x^2$\n",
    "\n",
    "$f(3) = 9$\n",
    "\n",
    "$g(a, b) = a \\cdot b$\n",
    "\n",
    "$g(5, 9) = 5 \\cdot 9 = 45$"
   ]
  },
  {
   "cell_type": "markdown",
   "id": "cfda0539",
   "metadata": {},
   "source": [
    "### Pythonissa\n",
    "Myös pythonissa funktio voi olla operaatio, joka muokkaa lukuja. Funktio voi olla kuitenkin paljon monimutkaisempi, koska funktion sisällä voi suorittaa mitä tahansa python-koodia. \n",
    "\n",
    "Pythonissa funktioita voi siis käyttää paljon muuhunkin kuin pelkkään lukujen käsittelyyn. Niillä voi esimerkiksi välttää saman koodin kirjoittamista moneen kertaan.\n",
    "\n",
    "Funktioita voi luoda itse ja niitä on valmiina. Esimerkiksi `print` ja `len` ovat valmiiksi määriteltyjä funktioita.\n",
    "\n",
    "Funktio voi ottaa parametreja ja palauttaa jonkun arvon. Parametreja voi olla mikä tahansa määrä. Funktio voi palauttaa arvon `return`-rakenteella, mutta tämäkään ei ole pakollista."
   ]
  },
  {
   "cell_type": "code",
   "execution_count": 10,
   "id": "e0114699",
   "metadata": {},
   "outputs": [],
   "source": [
    "def f(x):\n",
    "    return x ** 2"
   ]
  },
  {
   "cell_type": "code",
   "execution_count": 11,
   "id": "75a6f0a7",
   "metadata": {},
   "outputs": [
    {
     "name": "stdout",
     "output_type": "stream",
     "text": [
      "16\n"
     ]
    }
   ],
   "source": [
    "# Funktion f(x) parametriksi asetetaan luku 4 ja tallennetaan funktion palauttama arvo muuttujaan tulos\n",
    "tulos = f(4)\n",
    "print(tulos)"
   ]
  },
  {
   "cell_type": "code",
   "execution_count": 12,
   "id": "e7c2ccdb",
   "metadata": {},
   "outputs": [],
   "source": [
    "# Funktiolla g on kaksi parametria a ja b\n",
    "def g(a, b):\n",
    "    return a * b"
   ]
  },
  {
   "cell_type": "code",
   "execution_count": 13,
   "id": "0856243d",
   "metadata": {},
   "outputs": [
    {
     "name": "stdout",
     "output_type": "stream",
     "text": [
      "40\n"
     ]
    }
   ],
   "source": [
    "tulos = g(4, 10)\n",
    "print(tulos)"
   ]
  },
  {
   "cell_type": "code",
   "execution_count": 14,
   "id": "3bc7c09c",
   "metadata": {},
   "outputs": [
    {
     "name": "stdout",
     "output_type": "stream",
     "text": [
      "1\n",
      "2\n",
      "printataan funktion sisältä\n",
      "4\n",
      "printataan funktion sisältä\n"
     ]
    }
   ],
   "source": [
    "# Määritellään funktio, mutta ei vielä kutsuta sitä suoritettavaksi. Funktio2 ei palauta mitään\n",
    "# Funktio suoritetaan vasta kun se kutsutaan.\n",
    "def funktio2():\n",
    "    print(\"printataan funktion sisältä\")\n",
    "\n",
    "\n",
    "# Kutsutaan print-funktiota kaksi kertaa\n",
    "print(1)\n",
    "print(2)\n",
    "# Kutsutaan nyt itse määriteltyä funktiota suoritettavaksi\n",
    "funktio2()\n",
    "print(4)\n",
    "funktio2()"
   ]
  },
  {
   "cell_type": "markdown",
   "id": "6d711aca",
   "metadata": {},
   "source": [
    "## Tehtäviä funktioista\n",
    "\n",
    "### Tehtävä 3.6\n",
    "Tee funktio, joka ottaa parametrikseen luvun ja palauttaa luvun itseisarvon\n",
    "\n",
    "$\\left|x\\right|=\\begin{cases}\n",
    "x&{,}\\ jos\\ x\\ge 0\\\\\n",
    "-x&{,}\\ muuten\n",
    "\\end{cases}$"
   ]
  },
  {
   "cell_type": "code",
   "execution_count": 15,
   "id": "41093bd6",
   "metadata": {},
   "outputs": [
    {
     "name": "stdout",
     "output_type": "stream",
     "text": [
      "3 pitäisi olla 3\n",
      "3 pitäisi olla 3\n",
      "0 pitäisi olla 0\n"
     ]
    }
   ],
   "source": [
    "# kirjoita koodi tähän\n",
    "def itseisarvo(x):\n",
    "    # Koodi tänne\n",
    "    if x >= 0:\n",
    "        return x\n",
    "    else:\n",
    "        return -x\n",
    "\n",
    "\n",
    "# Testejä:\n",
    "print(itseisarvo(3), \"pitäisi olla 3\")\n",
    "print(itseisarvo(-3), \"pitäisi olla 3\")\n",
    "print(itseisarvo(0), \"pitäisi olla 0\")"
   ]
  },
  {
   "cell_type": "markdown",
   "id": "2ee6df57",
   "metadata": {},
   "source": [
    "### Tehtävä 3.7\n",
    "Kirjoita funktio, joka \n",
    "\n",
    "a) ottaa parametrikseen kaksi lukua ja laskee niiden keskiarvon\n",
    "\n",
    "b) Ottaa parametrikseen listan `[2, 3, 4, 5]` ja laskee sen jäsenten keskiarvon. Listan `[2, 3, 4, 5]` alkioita ovat luvut `2, 3, 4 ja 5`. Alla esimerkki miten voit käydä läpi listan jäsenet `for`-silmukassa."
   ]
  },
  {
   "cell_type": "code",
   "execution_count": 1,
   "id": "82128516",
   "metadata": {},
   "outputs": [
    {
     "name": "stdout",
     "output_type": "stream",
     "text": [
      "2\n",
      "3\n",
      "4\n",
      "5\n"
     ]
    }
   ],
   "source": [
    "# listan alkioiden läpikäynti\n",
    "lista = [2,3,4,5]\n",
    "for luku in lista:\n",
    "    print(luku)"
   ]
  },
  {
   "cell_type": "code",
   "execution_count": null,
   "id": "6dd9ba1e",
   "metadata": {},
   "outputs": [],
   "source": []
  },
  {
   "cell_type": "markdown",
   "id": "0beccee0",
   "metadata": {},
   "source": [
    "### Tehtävä 3.8\n",
    "Kirjoita funktio, joka ottaa parametrikseen listan ja palauttaa listan kaikkien lukujen tulon."
   ]
  },
  {
   "cell_type": "code",
   "execution_count": 19,
   "id": "696a34be",
   "metadata": {},
   "outputs": [
    {
     "name": "stdout",
     "output_type": "stream",
     "text": [
      "24\n",
      "listan a lukujen tulo 40320\n"
     ]
    }
   ],
   "source": [
    "# testilista\n",
    "a = [3,2,4,5,6,7,8]\n",
    "def tulo(lista):\n",
    "    tulo = 1\n",
    "    for luku in lista:\n",
    "        tulo = tulo * luku\n",
    "    return tulo\n",
    "print(tulo([3,2,4]))\n",
    "print(\"listan a lukujen tulo\",tulo(a))"
   ]
  },
  {
   "cell_type": "markdown",
   "id": "cfd34076",
   "metadata": {},
   "source": [
    "### Tehtävä 3.9\n",
    "Arvioi numeerinen derivaatta funktioista $f(x) = x^2$, $g(x) = 4x$ ja $s(x) = \\sqrt{x}$ haluamassasi kohdissa. Numeerisen derivaatan voi arvioida kaavalla $\\dfrac{f(x+h)-f(x)}{h}$, kun $h$ on pieni luku."
   ]
  },
  {
   "cell_type": "markdown",
   "id": "a72ec590",
   "metadata": {},
   "source": [
    "## Rekursio\n",
    "Rekursio tarkoittaa sitä, että funktio kutsuu itseään. Näin saadaan toistorakenne ilman silmukkaa.\n",
    "\n",
    "Yleinen rekursiolla määritelty lukujono on Fibonaccin lukujono. $F_1 = 1, F_2 = 1, F_n = F_{n-1} + F_{n-2}$\n",
    "\n",
    "Pythonissa tämän voi ohjelmoida rekursiivisesti:"
   ]
  },
  {
   "cell_type": "code",
   "execution_count": 22,
   "id": "3b17426c",
   "metadata": {},
   "outputs": [
    {
     "data": {
      "text/plain": [
       "55"
      ]
     },
     "execution_count": 22,
     "metadata": {},
     "output_type": "execute_result"
    }
   ],
   "source": [
    "def fibonacci(n):\n",
    "    if n == 1:\n",
    "        return 1\n",
    "    if n == 2:\n",
    "        return 1\n",
    "    return fibonacci(n - 1) + fibonacci(n - 2)\n",
    "\n",
    "\n",
    "fibonacci(10)"
   ]
  },
  {
   "cell_type": "markdown",
   "id": "0983beb2",
   "metadata": {},
   "source": [
    "### Tehtävä 3.10\n",
    "Ohjelmoi kaksi funktiota, joista toinen laskee kertoman rekursiivisesti ja toinen silmukalla. Kertoma on määritelty $n! = n\\cdot(n-1)!$ tai $n! = 1 \\cdot 2\\cdot \\ldots \\cdot n$"
   ]
  },
  {
   "cell_type": "code",
   "execution_count": 21,
   "id": "4b5424c5",
   "metadata": {},
   "outputs": [
    {
     "name": "stdout",
     "output_type": "stream",
     "text": [
      "funktiota kutsuttiin parametrillä 5\n",
      "funktiota kutsuttiin parametrillä 4\n",
      "funktiota kutsuttiin parametrillä 3\n",
      "funktiota kutsuttiin parametrillä 2\n",
      "funktiota kutsuttiin parametrillä 1\n",
      "120\n",
      "120\n"
     ]
    }
   ],
   "source": [
    "# koodaa tähän\n",
    "def kertoma_rekursiivinen(n):\n",
    "    print(\"funktiota kutsuttiin parametrillä\", n)\n",
    "    if n == 1:\n",
    "        return 1\n",
    "    return n * kertoma_rekursiivinen(n - 1)\n",
    "\n",
    "\n",
    "print(kertoma_rekursiivinen(5))\n",
    "\n",
    "\n",
    "# 5! = 1*2*3*4*5\n",
    "\n",
    "\n",
    "def kertoma_silmukka(n):\n",
    "    tulo = 1\n",
    "    for luku in range(1, n + 1):\n",
    "        tulo = tulo * luku\n",
    "    return tulo\n",
    "\n",
    "\n",
    "print(kertoma_silmukka(5))"
   ]
  },
  {
   "cell_type": "markdown",
   "id": "05fea8df",
   "metadata": {},
   "source": [
    "### Tehtävä 3.11\n",
    "Lukujonon jäsenet lasketaan rekursiivisesti säännöllä\n",
    "\n",
    "$a_n=a_{n-2}a_{n-1}$ kun $n=3,4, 5...$\n",
    "\n",
    "a) Tutki, lähestyvätkö jonon jäsenet jotain tiettyä lukua, kun $a_1=\\frac{3}{2}$ ja $a_2=\\frac{2}{3}$.\n",
    "\n",
    "b)  $a_1=2$ ja $a_2=\\frac{2}{3}$."
   ]
  },
  {
   "cell_type": "code",
   "execution_count": 20,
   "id": "ed22f080",
   "metadata": {},
   "outputs": [
    {
     "name": "stdout",
     "output_type": "stream",
     "text": [
      "eka\n",
      "1 1.5\n",
      "2 0.6666666666666666\n",
      "3 1.0\n",
      "4 0.6666666666666666\n",
      "5 0.6666666666666666\n",
      "6 0.4444444444444444\n",
      "7 0.2962962962962963\n",
      "8 0.1316872427983539\n",
      "9 0.039018442310623375\n",
      "10 0.005138231086172625\n",
      "11 0.00020048577321447823\n",
      "12 1.030142232265987e-06\n",
      "13 2.0652886195673503e-10\n",
      "14 2.127541028834649e-16\n",
      "15 4.3939862745148123e-26\n",
      "16 9.34838607916657e-42\n",
      "17 4.1076680120723254e-67\n",
      "18 3.8400066461894746e-108\n",
      "19 1.5773472466697637e-174\n",
      "20 6.0570239105605615e-282\n",
      "21 0.0\n",
      "22 0.0\n",
      "23 0.0\n",
      "24 0.0\n",
      "25 0.0\n",
      "26 0.0\n",
      "27 0.0\n",
      "28 0.0\n",
      "29 0.0\n",
      "toka\n",
      "1 2\n",
      "2 0.6666666666666666\n",
      "3 1.3333333333333333\n",
      "4 0.8888888888888888\n",
      "5 1.1851851851851851\n",
      "6 1.0534979423868311\n",
      "7 1.248590153939948\n",
      "8 1.315387158060192\n",
      "9 1.6423794541730057\n",
      "10 2.160364842681079\n",
      "11 3.548138831137102\n",
      "12 7.6652743877401335\n",
      "13 27.197457706461442\n",
      "14 208.47597596898441\n",
      "15 5670.016539229726\n",
      "16 1182062.2317762005\n",
      "17 6702312404.569859\n",
      "18 7922550359007160.0\n",
      "19 5.309940754700307e+25\n",
      "20 4.206827303245767e+41\n",
      "21 2.2338003745490688e+67\n",
      "22 9.397212405653644e+108\n",
      "23 2.0991496591466267e+176\n",
      "24 1.97261552182563e+285\n",
      "25 inf\n",
      "26 inf\n",
      "27 inf\n",
      "28 inf\n",
      "29 inf\n"
     ]
    }
   ],
   "source": [
    "def a_eka(n):\n",
    "    if n == 1:\n",
    "        return 3 / 2\n",
    "    if n == 2:\n",
    "        return 2 / 3\n",
    "    return a_eka(n - 2) * a_eka(n - 1)\n",
    "\n",
    "\n",
    "def a_toka(n):\n",
    "    if n == 1:\n",
    "        return 2\n",
    "    if n == 2:\n",
    "        return 2 / 3\n",
    "    return a_toka(n - 2) * a_toka(n - 1)\n",
    "\n",
    "\n",
    "print(\"eka\")\n",
    "for n in range(1, 30):\n",
    "    print(n, a_eka(n))\n",
    "\n",
    "\n",
    "print(\"toka\")\n",
    "for n in range(1, 30):\n",
    "    print(n, a_toka(n))"
   ]
  }
 ],
 "metadata": {
  "kernelspec": {
   "display_name": "Python 3 (ipykernel)",
   "language": "python",
   "name": "python3"
  },
  "language_info": {
   "codemirror_mode": {
    "name": "ipython",
    "version": 3
   },
   "file_extension": ".py",
   "mimetype": "text/x-python",
   "name": "python",
   "nbconvert_exporter": "python",
   "pygments_lexer": "ipython3",
   "version": "3.10.0"
  }
 },
 "nbformat": 4,
 "nbformat_minor": 5
}
